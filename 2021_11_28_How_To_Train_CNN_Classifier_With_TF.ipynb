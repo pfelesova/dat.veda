{
  "nbformat": 4,
  "nbformat_minor": 5,
  "metadata": {
    "accelerator": "GPU",
    "colab": {
      "name": "2021_11_28 How_To_Train_CNN_Classifier_With_TF.ipynb",
      "provenance": [],
      "collapsed_sections": [],
      "include_colab_link": true
    },
    "kernelspec": {
      "display_name": "Python 3 (ipykernel)",
      "language": "python",
      "name": "python3"
    },
    "language_info": {
      "codemirror_mode": {
        "name": "ipython",
        "version": 3
      },
      "file_extension": ".py",
      "mimetype": "text/x-python",
      "name": "python",
      "nbconvert_exporter": "python",
      "pygments_lexer": "ipython3",
      "version": "3.8.9"
    }
  },
  "cells": [
    {
      "cell_type": "markdown",
      "metadata": {
        "id": "view-in-github",
        "colab_type": "text"
      },
      "source": [
        "<a href=\"https://colab.research.google.com/github/pfelesova/dat.veda/blob/main/2021_11_28_How_To_Train_CNN_Classifier_With_TF.ipynb\" target=\"_parent\"><img src=\"https://colab.research.google.com/assets/colab-badge.svg\" alt=\"Open In Colab\"/></a>"
      ]
    },
    {
      "cell_type": "markdown",
      "metadata": {
        "id": "a0f8e486"
      },
      "source": [
        "# How To Train CNN Classifier With TF\n",
        "\n",
        "This notebook demonstrates how to use `genomic_benchmarks` to train a neural network classifier on one of its benchmark datasets [human_nontata_promoters](https://github.com/ML-Bioinfo-CEITEC/genomic_benchmarks/tree/main/docs/human_nontata_promoters)."
      ],
      "id": "a0f8e486"
    },
    {
      "cell_type": "code",
      "metadata": {
        "id": "akPONjEhhr9m",
        "colab": {
          "base_uri": "https://localhost:8080/"
        },
        "outputId": "15740ad2-d7a3-4563-c927-97839d76ca6d"
      },
      "source": [
        "#If you work in Google Colaboratory - uncomment the following line to install the package to your virtual machine  \n",
        "!pip install -qq tensorflow_addons genomic-benchmarks"
      ],
      "id": "akPONjEhhr9m",
      "execution_count": 1,
      "outputs": [
        {
          "output_type": "stream",
          "name": "stdout",
          "text": [
            "\u001b[K     |████████████████████████████████| 1.1 MB 5.3 MB/s \n",
            "\u001b[K     |████████████████████████████████| 2.3 MB 34.0 MB/s \n",
            "\u001b[K     |████████████████████████████████| 596 kB 48.8 MB/s \n",
            "\u001b[K     |████████████████████████████████| 271 kB 44.5 MB/s \n",
            "\u001b[K     |████████████████████████████████| 160 kB 45.0 MB/s \n",
            "\u001b[?25h  Building wheel for genomic-benchmarks (setup.py) ... \u001b[?25l\u001b[?25hdone\n"
          ]
        }
      ]
    },
    {
      "cell_type": "markdown",
      "metadata": {
        "id": "3a06a600"
      },
      "source": [
        "# Data download\n",
        "\n",
        "With the function `download_dataset` downloads, we can download full-sequence form of the benchmark, splitted into train and test sets, one folder for each class."
      ],
      "id": "3a06a600"
    },
    {
      "cell_type": "code",
      "metadata": {
        "id": "1a57e0d2",
        "colab": {
          "base_uri": "https://localhost:8080/"
        },
        "outputId": "a6f8b9c0-0848-48ab-e1a1-920d9b775b80"
      },
      "source": [
        "from pathlib import Path\n",
        "import tensorflow as tf\n",
        "import numpy as np\n",
        "\n",
        "from genomic_benchmarks.loc2seq import download_dataset\n",
        "from genomic_benchmarks.data_check import is_downloaded, info\n",
        "from genomic_benchmarks.models.tf import vectorize_layer, binary_f1_score\n",
        "from genomic_benchmarks.models.tf import basic_cnn_model_v0 as model\n",
        "\n",
        "if not is_downloaded('demo_human_or_worm'):\n",
        "    download_dataset('demo_human_or_worm')"
      ],
      "id": "1a57e0d2",
      "execution_count": 2,
      "outputs": [
        {
          "output_type": "stream",
          "name": "stderr",
          "text": [
            "/usr/local/lib/python3.7/dist-packages/genomic_benchmarks/utils/datasets.py:11: TqdmExperimentalWarning: Using `tqdm.autonotebook.tqdm` in notebook mode. Use `tqdm.tqdm` instead to force console mode (e.g. in jupyter console)\n",
            "  from tqdm.autonotebook import tqdm\n"
          ]
        },
        {
          "output_type": "stream",
          "name": "stdout",
          "text": [
            "Downloading 1Vuc44bXRISqRDXNrxt5lGYLpLsJbrSg8 into /root/.genomic_benchmarks/demo_human_or_worm.zip... "
          ]
        },
        {
          "output_type": "stream",
          "name": "stderr",
          "text": [
            "/usr/local/lib/python3.7/dist-packages/genomic_benchmarks/utils/datasets.py:50: UserWarning: No version specified. Using version 0.\n",
            "  warnings.warn(f\"No version specified. Using version {metadata['version']}.\")\n"
          ]
        },
        {
          "output_type": "stream",
          "name": "stdout",
          "text": [
            "Done.\n",
            "Unzipping...Done.\n"
          ]
        }
      ]
    },
    {
      "cell_type": "code",
      "metadata": {
        "colab": {
          "base_uri": "https://localhost:8080/",
          "height": 199
        },
        "id": "ef313c21",
        "outputId": "b04ff4cd-8a5a-43e5-b071-a174821a823b"
      },
      "source": [
        "info('demo_human_or_worm', 0)"
      ],
      "id": "ef313c21",
      "execution_count": 3,
      "outputs": [
        {
          "output_type": "stream",
          "name": "stdout",
          "text": [
            "Dataset `demo_human_or_worm` has 2 classes: human, worm.\n",
            "\n",
            "All lenghts of genomic intervals equals 200.\n",
            "\n",
            "Totally 100000 sequences have been found, 75000 for training and 25000 for testing.\n"
          ]
        },
        {
          "output_type": "execute_result",
          "data": {
            "text/html": [
              "<div>\n",
              "<style scoped>\n",
              "    .dataframe tbody tr th:only-of-type {\n",
              "        vertical-align: middle;\n",
              "    }\n",
              "\n",
              "    .dataframe tbody tr th {\n",
              "        vertical-align: top;\n",
              "    }\n",
              "\n",
              "    .dataframe thead th {\n",
              "        text-align: right;\n",
              "    }\n",
              "</style>\n",
              "<table border=\"1\" class=\"dataframe\">\n",
              "  <thead>\n",
              "    <tr style=\"text-align: right;\">\n",
              "      <th></th>\n",
              "      <th>train</th>\n",
              "      <th>test</th>\n",
              "    </tr>\n",
              "  </thead>\n",
              "  <tbody>\n",
              "    <tr>\n",
              "      <th>human</th>\n",
              "      <td>37500</td>\n",
              "      <td>12500</td>\n",
              "    </tr>\n",
              "    <tr>\n",
              "      <th>worm</th>\n",
              "      <td>37500</td>\n",
              "      <td>12500</td>\n",
              "    </tr>\n",
              "  </tbody>\n",
              "</table>\n",
              "</div>"
            ],
            "text/plain": [
              "       train   test\n",
              "human  37500  12500\n",
              "worm   37500  12500"
            ]
          },
          "metadata": {},
          "execution_count": 3
        }
      ]
    },
    {
      "cell_type": "markdown",
      "metadata": {
        "id": "f4ce24e0"
      },
      "source": [
        "## TF Dataset object\n",
        "\n",
        "To train the model with TensorFlow, we must create a TF Dataset. Because the directory structure of our benchmarks is ready for training, we can just call `tf.keras.preprocessing.text_dataset_from_directory` function as follows."
      ],
      "id": "f4ce24e0"
    },
    {
      "cell_type": "code",
      "metadata": {
        "colab": {
          "base_uri": "https://localhost:8080/"
        },
        "id": "409118c7",
        "outputId": "7c03af33-8725-4ba3-a383-bbe7f5d26a4b"
      },
      "source": [
        "BATCH_SIZE = 128\n",
        "SEQ_PATH = Path.home() / '.genomic_benchmarks' / 'demo_human_or_worm'\n",
        "CLASSES = [x.stem for x in (SEQ_PATH/'train').iterdir() if x.is_dir()]\n",
        "\n",
        "train_dset = tf.keras.preprocessing.text_dataset_from_directory(\n",
        "    SEQ_PATH / 'train',\n",
        "    batch_size=BATCH_SIZE,\n",
        "    class_names=CLASSES)"
      ],
      "id": "409118c7",
      "execution_count": 4,
      "outputs": [
        {
          "output_type": "stream",
          "name": "stdout",
          "text": [
            "Found 75000 files belonging to 2 classes.\n"
          ]
        }
      ]
    },
    {
      "cell_type": "markdown",
      "metadata": {
        "id": "ef9706c8"
      },
      "source": [
        "## Text vectorization\n",
        "\n",
        "To convert the strings to tensors, we internally use TF `TextVectorization` layer and splitting to characters."
      ],
      "id": "ef9706c8"
    },
    {
      "cell_type": "code",
      "metadata": {
        "colab": {
          "base_uri": "https://localhost:8080/"
        },
        "id": "60ac5547",
        "outputId": "6b58da20-4979-48d9-ae3e-5b1f005d78c1"
      },
      "source": [
        "vectorize_layer.adapt(train_dset.map(lambda x, y: x))\n",
        "vectorize_layer.get_vocabulary()"
      ],
      "id": "60ac5547",
      "execution_count": 5,
      "outputs": [
        {
          "output_type": "execute_result",
          "data": {
            "text/plain": [
              "['', '[UNK]', 'a', 't', 'c', 'g', 'n']"
            ]
          },
          "metadata": {},
          "execution_count": 5
        }
      ]
    },
    {
      "cell_type": "code",
      "metadata": {
        "id": "6a5c8a30"
      },
      "source": [
        "def vectorize_text(text, label):\n",
        "  text = tf.expand_dims(text, -1)\n",
        "  return vectorize_layer(text)-2, label\n",
        "\n",
        "train_ds = train_dset.map(vectorize_text)"
      ],
      "id": "6a5c8a30",
      "execution_count": 6,
      "outputs": []
    },
    {
      "cell_type": "markdown",
      "metadata": {
        "id": "2216d2dd"
      },
      "source": [
        "## Model training\n",
        "\n",
        "To get a baseline (other models can be compared to) we ship a package with [a simple CNN model](https://github.com/ML-Bioinfo-CEITEC/genomic_benchmarks/blob/main/src/genomic_benchmarks/models/tf.py). We have vectorized the dataset before training the model to speed up the process."
      ],
      "id": "2216d2dd"
    },
    {
      "cell_type": "code",
      "metadata": {
        "id": "2fbf777e"
      },
      "source": [
        "model.compile(loss=tf.keras.losses.BinaryCrossentropy(from_logits=True),\n",
        "              optimizer='adam',\n",
        "              metrics=[tf.metrics.BinaryAccuracy(threshold=0.2), binary_f1_score])"
      ],
      "id": "2fbf777e",
      "execution_count": 7,
      "outputs": []
    },
    {
      "cell_type": "code",
      "metadata": {
        "colab": {
          "base_uri": "https://localhost:8080/"
        },
        "id": "57ae2ebd",
        "outputId": "e45be424-9172-4da5-b9d6-4e050a1917bd"
      },
      "source": [
        "EPOCHS = 10\n",
        "\n",
        "history = model.fit(\n",
        "    train_ds,\n",
        "    epochs=EPOCHS)"
      ],
      "id": "57ae2ebd",
      "execution_count": 11,
      "outputs": [
        {
          "output_type": "stream",
          "name": "stdout",
          "text": [
            "Epoch 1/10\n",
            "586/586 [==============================] - 26s 44ms/step - loss: 0.1260 - binary_accuracy: 0.9506 - f1_score: 0.9482\n",
            "Epoch 2/10\n",
            "586/586 [==============================] - 27s 45ms/step - loss: 0.1230 - binary_accuracy: 0.9513 - f1_score: 0.9493\n",
            "Epoch 3/10\n",
            "586/586 [==============================] - 27s 46ms/step - loss: 0.1215 - binary_accuracy: 0.9519 - f1_score: 0.9501\n",
            "Epoch 4/10\n",
            "586/586 [==============================] - 26s 45ms/step - loss: 0.1201 - binary_accuracy: 0.9525 - f1_score: 0.9505\n",
            "Epoch 5/10\n",
            "586/586 [==============================] - 26s 44ms/step - loss: 0.1184 - binary_accuracy: 0.9528 - f1_score: 0.9507\n",
            "Epoch 6/10\n",
            "586/586 [==============================] - 26s 44ms/step - loss: 0.1171 - binary_accuracy: 0.9540 - f1_score: 0.9517\n",
            "Epoch 7/10\n",
            "586/586 [==============================] - 26s 44ms/step - loss: 0.1158 - binary_accuracy: 0.9538 - f1_score: 0.9518\n",
            "Epoch 8/10\n",
            "586/586 [==============================] - 26s 44ms/step - loss: 0.1156 - binary_accuracy: 0.9539 - f1_score: 0.9520\n",
            "Epoch 9/10\n",
            "586/586 [==============================] - 26s 44ms/step - loss: 0.1143 - binary_accuracy: 0.9544 - f1_score: 0.9528\n",
            "Epoch 10/10\n",
            "586/586 [==============================] - 26s 45ms/step - loss: 0.1136 - binary_accuracy: 0.9550 - f1_score: 0.9528\n"
          ]
        }
      ]
    },
    {
      "cell_type": "markdown",
      "metadata": {
        "id": "5bae33fa"
      },
      "source": [
        "## Evaluation on the test set\n",
        "\n",
        "Finally, we can do the same pre-processing for the test set and evaluate the F1 score of our model."
      ],
      "id": "5bae33fa"
    },
    {
      "cell_type": "code",
      "metadata": {
        "colab": {
          "base_uri": "https://localhost:8080/"
        },
        "id": "38e009a1",
        "outputId": "ee9e9670-e9ba-4533-dcaa-cc1806248d96"
      },
      "source": [
        "test_dset = tf.keras.preprocessing.text_dataset_from_directory(\n",
        "    SEQ_PATH / 'test',\n",
        "    batch_size=BATCH_SIZE,\n",
        "    class_names=CLASSES,\n",
        "    shuffle=False)\n",
        "\n",
        "test_ds = test_dset.map(vectorize_text)"
      ],
      "id": "38e009a1",
      "execution_count": 12,
      "outputs": [
        {
          "output_type": "stream",
          "name": "stdout",
          "text": [
            "Found 25000 files belonging to 2 classes.\n"
          ]
        }
      ]
    },
    {
      "cell_type": "code",
      "metadata": {
        "id": "b7ec77f5",
        "colab": {
          "base_uri": "https://localhost:8080/"
        },
        "outputId": "9835962e-e8e1-4b3c-c724-55cb88bc9673"
      },
      "source": [
        "model.evaluate(test_ds)"
      ],
      "id": "b7ec77f5",
      "execution_count": 13,
      "outputs": [
        {
          "output_type": "stream",
          "name": "stdout",
          "text": [
            "196/196 [==============================] - 8s 39ms/step - loss: 0.1502 - binary_accuracy: 0.9432 - f1_score: 0.9406\n"
          ]
        },
        {
          "output_type": "execute_result",
          "data": {
            "text/plain": [
              "[0.1501772552728653, 0.9432399868965149, 0.9406252503395081]"
            ]
          },
          "metadata": {},
          "execution_count": 13
        }
      ]
    },
    {
      "cell_type": "code",
      "metadata": {
        "id": "1fcbc4a7"
      },
      "source": [
        "# 0.16, 0.94, 0.94\n",
        "# 0.25, 0.91, 0.92\n",
        "# 0.15, 0.94, 0.94"
      ],
      "id": "1fcbc4a7",
      "execution_count": null,
      "outputs": []
    }
  ]
}