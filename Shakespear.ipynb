{
  "nbformat": 4,
  "nbformat_minor": 0,
  "metadata": {
    "colab": {
      "name": "Shakespear.ipynb",
      "provenance": [],
      "authorship_tag": "ABX9TyOfviD9p47NsYIIJsvdsEDC",
      "include_colab_link": true
    },
    "kernelspec": {
      "name": "python3",
      "display_name": "Python 3"
    },
    "language_info": {
      "name": "python"
    }
  },
  "cells": [
    {
      "cell_type": "markdown",
      "metadata": {
        "id": "view-in-github",
        "colab_type": "text"
      },
      "source": [
        "<a href=\"https://colab.research.google.com/github/pfelesova/dat.veda/blob/main/Shakespear.ipynb\" target=\"_parent\"><img src=\"https://colab.research.google.com/assets/colab-badge.svg\" alt=\"Open In Colab\"/></a>"
      ]
    },
    {
      "cell_type": "code",
      "metadata": {
        "id": "ZfFAZRg-EyTI"
      },
      "source": [
        "import numpy as np\n",
        "from tensorflow.keras.preprocessing.text import Tokenizer\n",
        "from tensorflow.keras.preprocessing.sequence import pad_sequences"
      ],
      "execution_count": 1,
      "outputs": []
    },
    {
      "cell_type": "code",
      "metadata": {
        "id": "_4rgW6OaE4YV"
      },
      "source": [
        "import tensorflow as tf\n",
        "from tensorflow.keras.models import Sequential\n",
        "from keras.layers import Embedding\n",
        "from tensorflow.keras.layers import Bidirectional, LSTM, Dense\n",
        "from tensorflow.keras.optimizers import Adam"
      ],
      "execution_count": 2,
      "outputs": []
    },
    {
      "cell_type": "code",
      "metadata": {
        "colab": {
          "base_uri": "https://localhost:8080/"
        },
        "id": "LYcngaY9E4qY",
        "outputId": "3edf4af1-3fd2-447c-8beb-c20e148d1366"
      },
      "source": [
        "from google.colab import drive\n",
        "drive.mount('/content/drive')"
      ],
      "execution_count": 3,
      "outputs": [
        {
          "output_type": "stream",
          "name": "stdout",
          "text": [
            "Mounted at /content/drive\n"
          ]
        }
      ]
    },
    {
      "cell_type": "code",
      "metadata": {
        "id": "CEEb8mZ5E4m4"
      },
      "source": [
        "data_path = '/content/drive/MyDrive/sonety.txt'\n",
        "with open(data_path, 'r') as f:\n",
        "    lines = f.read().split('\\n')"
      ],
      "execution_count": 4,
      "outputs": []
    },
    {
      "cell_type": "code",
      "metadata": {
        "id": "tfMVyV9AE4kF"
      },
      "source": [
        "tokenizer = Tokenizer()\n",
        "corpus = lines\n",
        "\n",
        "tokenizer.fit_on_texts(corpus)\n",
        "total_words = len(tokenizer.word_index) + 1"
      ],
      "execution_count": 5,
      "outputs": []
    },
    {
      "cell_type": "code",
      "metadata": {
        "colab": {
          "base_uri": "https://localhost:8080/"
        },
        "id": "uEDF13shE4g0",
        "outputId": "676ff65e-afa3-46aa-ef20-d5ea18a41103"
      },
      "source": [
        "input_sequence = []\n",
        "for line in corpus:\n",
        "  token_list = tokenizer.texts_to_sequences([line])[0]\n",
        "  for i in range(1, len(token_list)):\n",
        "    n_gram_sequence = token_list[:i]\n",
        "    input_sequence.append(n_gram_sequence)\n",
        "\n",
        "input_sequence[0:10]"
      ],
      "execution_count": 6,
      "outputs": [
        {
          "output_type": "execute_result",
          "data": {
            "text/plain": [
              "[[34],\n",
              " [34, 413],\n",
              " [34, 413, 875],\n",
              " [34, 413, 875, 166],\n",
              " [34, 413, 875, 166, 213],\n",
              " [8],\n",
              " [8, 876],\n",
              " [8, 876, 134],\n",
              " [8, 876, 134, 348],\n",
              " [8, 876, 134, 348, 99]]"
            ]
          },
          "metadata": {},
          "execution_count": 6
        }
      ]
    },
    {
      "cell_type": "code",
      "metadata": {
        "colab": {
          "base_uri": "https://localhost:8080/"
        },
        "id": "RTy1Pj9IE4d-",
        "outputId": "4cdcf790-ef43-4cbd-e201-f903fc09bed3"
      },
      "source": [
        "max_sequence_len = max([len(x) for x in input_sequence])\n",
        "max_sequence_len"
      ],
      "execution_count": 7,
      "outputs": [
        {
          "output_type": "execute_result",
          "data": {
            "text/plain": [
              "10"
            ]
          },
          "metadata": {},
          "execution_count": 7
        }
      ]
    },
    {
      "cell_type": "code",
      "metadata": {
        "colab": {
          "base_uri": "https://localhost:8080/"
        },
        "id": "ntOn0OYFE4bF",
        "outputId": "4478b94d-b5c7-4edc-ac52-93c9f5dfd167"
      },
      "source": [
        "input_sequence = np.array(pad_sequences(input_sequence, maxlen = max_sequence_len, padding = 'pre'))\n",
        "input_sequence[:10]"
      ],
      "execution_count": 8,
      "outputs": [
        {
          "output_type": "execute_result",
          "data": {
            "text/plain": [
              "array([[  0,   0,   0,   0,   0,   0,   0,   0,   0,  34],\n",
              "       [  0,   0,   0,   0,   0,   0,   0,   0,  34, 413],\n",
              "       [  0,   0,   0,   0,   0,   0,   0,  34, 413, 875],\n",
              "       [  0,   0,   0,   0,   0,   0,  34, 413, 875, 166],\n",
              "       [  0,   0,   0,   0,   0,  34, 413, 875, 166, 213],\n",
              "       [  0,   0,   0,   0,   0,   0,   0,   0,   0,   8],\n",
              "       [  0,   0,   0,   0,   0,   0,   0,   0,   8, 876],\n",
              "       [  0,   0,   0,   0,   0,   0,   0,   8, 876, 134],\n",
              "       [  0,   0,   0,   0,   0,   0,   8, 876, 134, 348],\n",
              "       [  0,   0,   0,   0,   0,   8, 876, 134, 348,  99]], dtype=int32)"
            ]
          },
          "metadata": {},
          "execution_count": 8
        }
      ]
    },
    {
      "cell_type": "code",
      "metadata": {
        "id": "liX1I8a9E4VQ"
      },
      "source": [
        "xs = input_sequence[:,:-1]\n",
        "labels = input_sequence[:,-1]\n",
        "\n",
        "ys = tf.keras.utils.to_categorical(labels, num_classes = total_words)"
      ],
      "execution_count": 9,
      "outputs": []
    },
    {
      "cell_type": "code",
      "metadata": {
        "colab": {
          "base_uri": "https://localhost:8080/"
        },
        "id": "rkSNxfFEE4SC",
        "outputId": "69786fc4-973d-42e0-b61f-809ab5f2f819"
      },
      "source": [
        "model = Sequential()\n",
        "model.add(Embedding(total_words, 150, input_length = max_sequence_len - 1))\n",
        "model.add(Bidirectional(LSTM(100)))\n",
        "model.add(Dense(total_words, activation = 'softmax'))\n",
        "adam = Adam(learning_rate = 0.7)\n",
        "model.compile(loss = 'categorical_crossentropy', optimizer = adam, metrics = ['accuracy'])\n",
        "history = model.fit(xs, ys, epochs = 100, verbose = 1)"
      ],
      "execution_count": null,
      "outputs": [
        {
          "output_type": "stream",
          "name": "stdout",
          "text": [
            "Epoch 1/100\n",
            "482/482 [==============================] - 26s 44ms/step - loss: 122.8836 - accuracy: 0.0095\n",
            "Epoch 2/100\n",
            "482/482 [==============================] - 21s 43ms/step - loss: 154.3489 - accuracy: 0.0133\n",
            "Epoch 3/100\n",
            "482/482 [==============================] - 21s 43ms/step - loss: 158.8704 - accuracy: 0.0138\n",
            "Epoch 4/100\n",
            "482/482 [==============================] - 21s 43ms/step - loss: 177.4812 - accuracy: 0.0181\n",
            "Epoch 5/100\n",
            "482/482 [==============================] - 21s 43ms/step - loss: 166.2067 - accuracy: 0.0204\n",
            "Epoch 6/100\n",
            "482/482 [==============================] - 21s 43ms/step - loss: 156.0369 - accuracy: 0.0212\n",
            "Epoch 7/100\n",
            "482/482 [==============================] - 21s 43ms/step - loss: 152.7400 - accuracy: 0.0243\n",
            "Epoch 8/100\n",
            "482/482 [==============================] - 21s 43ms/step - loss: 147.7094 - accuracy: 0.0289\n",
            "Epoch 9/100\n",
            "379/482 [======================>.......] - ETA: 4s - loss: 144.3034 - accuracy: 0.0331"
          ]
        }
      ]
    },
    {
      "cell_type": "code",
      "metadata": {
        "id": "Qq2pWhbqFRZo"
      },
      "source": [
        "seed_text = \"Sonet\"\n",
        "next_words = 20"
      ],
      "execution_count": null,
      "outputs": []
    },
    {
      "cell_type": "code",
      "metadata": {
        "id": "GQ0vNIU1FRQ5"
      },
      "source": [
        "for _ in range(next_words):\n",
        "  token_list = tokenizer.texts_to_sequences([seed_text])[0]\n",
        "  token_list = pad_sequences([token_list], maxlen = max_sequence_len -1, padding = 'pre')\n",
        "  # predicted = model.predict_classes(token_list, verbose = 0)\n",
        "\n",
        "  predict_x = model.predict(token_list) \n",
        "  classes_x = np.argmax(predict_x, axis=1)\n",
        "\n",
        "  output_word = \"\"\n",
        "  for word, index in tokenizer.word_index.items():\n",
        "    if index == classes_x:\n",
        "      output_word = word\n",
        "      break\n",
        "  seed_text += \" \" + output_word\n",
        "\n",
        "print(seed_text) \n"
      ],
      "execution_count": null,
      "outputs": []
    }
  ]
}